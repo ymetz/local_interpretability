{
 "cells": [
  {
   "cell_type": "code",
   "execution_count": 1,
   "metadata": {},
   "outputs": [],
   "source": [
    "import requests\n",
    "import itertools\n",
    "import numpy as np\n",
    "from model_handling import tensorflow_models\n",
    "from data_handling.dataservice import get_dataset_list\n",
    "import tensorflow as tf\n",
    "import random\n",
    "#from nltk.corpus import wordnet as wn\n",
    "import matplotlib.pyplot as plt\n",
    "#from nltk.corpus import wordnet_ic\n",
    "import scipy.spatial.distance as ssd\n",
    "#brown_ic = wordnet_ic.ic('ic-brown.dat')\n",
    "import os\n",
    "\n",
    "from project.server.explanations.tcav_explainer import load_tcavs"
   ]
  },
  {
   "cell_type": "code",
   "execution_count": 2,
   "metadata": {},
   "outputs": [
    {
     "name": "stdout",
     "output_type": "stream",
     "text": [
      "/Users/yannick/Documents/Studium/interVis/models/tensorflow_inception_v3/imagenetinception-tcavscores.pkl\n",
      "found concept directory for tcav\n",
      "tcav_concepts_test_obustnes is not a valid dataset directory\n",
      "INFO:tensorflow:Restoring parameters from ../../models/tensorflow_inception_v3/inception_v3.ckpt\n",
      "imagenet \n"
     ]
    }
   ],
   "source": [
    "    tcav_dict = load_tcavs(None, None, tcav_file_name=\"/Users/yannick/Documents/Studium/interVis/models/\"\n",
    "                                                      \"tensorflow_inception_v3/imagenetinception-tcavscores.pkl\",\n",
    "                           absolute_path=True)\n",
    "\n",
    "    dataset = get_dataset_list(\"../../datasets/\")[0]\n",
    "    the_model = tensorflow_models.InceptionModel(0, \"\", \"\") #mode lrp to return logits\n",
    "    print(dataset.dataset_name, the_model.model_name)\n",
    "\n",
    "    tcav_classes = [*tcav_dict]\n",
    "    file_list = []\n",
    "    for elem in dataset.label_to_elements[65]:\n",
    "        if int(elem.split('.')[-2][-8:]) <= 5000:\n",
    "            file_list.append(elem)\n",
    "\n",
    "    transformed_images = the_model.transform_images(\n",
    "        [os.path.join(dataset.dataset_path, file) for file in file_list])\n",
    "\n",
    "    preds0 = the_model.predict_images(transformed_images)"
   ]
  },
  {
   "cell_type": "code",
   "execution_count": 78,
   "metadata": {},
   "outputs": [],
   "source": [
    "    file_list = []\n",
    "    for elem in dataset.label_to_elements[59]:\n",
    "        if int(elem.split('.')[-2][-8:]) <= 5000:\n",
    "            file_list.append(elem)\n",
    "\n",
    "    transformed_images = the_model.transform_images(\n",
    "        [os.path.join(dataset.dataset_path, file) for file in file_list])\n",
    "\n",
    "    preds1 = the_model.predict_images(transformed_images)"
   ]
  },
  {
   "cell_type": "code",
   "execution_count": 22,
   "metadata": {
    "scrolled": true
   },
   "outputs": [
    {
     "ename": "SyntaxError",
     "evalue": "invalid syntax (<ipython-input-22-513b1426ddf8>, line 1)",
     "traceback": [
      "\u001b[0;36m  File \u001b[0;32m\"<ipython-input-22-513b1426ddf8>\"\u001b[0;36m, line \u001b[0;32m1\u001b[0m\n\u001b[0;31m    [sum_diff = ssd.cdist(preds0, preds1)]\u001b[0m\n\u001b[0m              ^\u001b[0m\n\u001b[0;31mSyntaxError\u001b[0m\u001b[0;31m:\u001b[0m invalid syntax\n"
     ],
     "output_type": "error"
    }
   ],
   "source": [
    "[sum_diff = ssd.cdist(preds0, preds1)]\n",
    "sum_diff.shape\n",
    "print(np.mean(sum_diff))"
   ]
  },
  {
   "cell_type": "code",
   "execution_count": 61,
   "metadata": {},
   "outputs": [
    {
     "data": {
      "text/plain": [
       "array([4.9831964e-05, 5.3554406e-05, 2.8380621e-06, 2.3256083e-05,\n",
       "       6.9029280e-05, 1.7579194e-05], dtype=float32)"
      ]
     },
     "execution_count": 61,
     "metadata": {},
     "output_type": "execute_result"
    }
   ],
   "source": [
    "preds0[:,0]"
   ]
  },
  {
   "cell_type": "code",
   "execution_count": 81,
   "metadata": {},
   "outputs": [],
   "source": [
    "jsd = [ssd.jensenshannon(preds0[:4,i],preds0[:1,i]) for i in range(min(len(preds0[:,0]),len(preds1[:,0])))]"
   ]
  },
  {
   "cell_type": "code",
   "execution_count": 82,
   "metadata": {},
   "outputs": [
    {
     "name": "stdout",
     "output_type": "stream",
     "text": [
      "[0.0, 0.0, 0.0, 0.0]\n"
     ]
    },
    {
     "data": {
      "text/plain": [
       "0.0"
      ]
     },
     "execution_count": 82,
     "metadata": {},
     "output_type": "execute_result"
    }
   ],
   "source": [
    "print(jsd)\n",
    "np.average(jsd)"
   ]
  },
  {
   "cell_type": "code",
   "execution_count": 56,
   "metadata": {},
   "outputs": [
    {
     "data": {
      "text/plain": [
       "0.6242678761482239"
      ]
     },
     "execution_count": 56,
     "metadata": {},
     "output_type": "execute_result"
    }
   ],
   "source": [
    "ssd.euclidean(preds0[0],preds1[1])"
   ]
  },
  {
   "cell_type": "code",
   "execution_count": 50,
   "metadata": {},
   "outputs": [
    {
     "name": "stdout",
     "output_type": "stream",
     "text": [
      "[[4.9831964e-05 1.2235250e-04 5.4172004e-05 ... 4.4506905e-05\n",
      "  6.4886495e-05 3.6877398e-05]\n",
      " [5.3554406e-05 1.2221056e-04 4.4004279e-05 ... 4.4535176e-05\n",
      "  2.2941671e-05 4.5105331e-05]\n",
      " [2.8380621e-06 2.4694882e-06 7.2088397e-07 ... 3.7543107e-06\n",
      "  9.8387989e-07 2.2515587e-06]\n",
      " [2.3256083e-05 6.9899179e-06 1.0079746e-05 ... 4.5297023e-05\n",
      "  5.8398773e-06 1.7447877e-05]\n",
      " [6.9029280e-05 6.9105357e-05 2.0626778e-04 ... 1.1672427e-04\n",
      "  7.6737568e-05 7.5508033e-05]\n",
      " [1.7579194e-05 1.1759318e-05 2.7164604e-05 ... 1.7555722e-05\n",
      "  1.1774917e-05 2.3467834e-05]]\n",
      "[[5.3554406e-05 1.2221056e-04 4.4004279e-05 ... 4.4535176e-05\n",
      "  2.2941671e-05 4.5105331e-05]\n",
      " [2.8380621e-06 2.4694882e-06 7.2088397e-07 ... 3.7543107e-06\n",
      "  9.8387989e-07 2.2515587e-06]\n",
      " [2.3256083e-05 6.9899179e-06 1.0079746e-05 ... 4.5297023e-05\n",
      "  5.8398773e-06 1.7447877e-05]\n",
      " [6.9029280e-05 6.9105357e-05 2.0626778e-04 ... 1.1672427e-04\n",
      "  7.6737568e-05 7.5508033e-05]\n",
      " [1.7579194e-05 1.1759318e-05 2.7164604e-05 ... 1.7555722e-05\n",
      "  1.1774917e-05 2.3467834e-05]\n",
      " [4.9831964e-05 1.2235250e-04 5.4172004e-05 ... 4.4506905e-05\n",
      "  6.4886495e-05 3.6877398e-05]]\n"
     ]
    }
   ],
   "source": [
    "print(preds0)\n",
    "print(np.roll(preds0, -1, axis=0))"
   ]
  }
 ],
 "metadata": {
  "kernelspec": {
   "display_name": "Python 3",
   "language": "python",
   "name": "python3"
  },
  "language_info": {
   "codemirror_mode": {
    "name": "ipython",
    "version": 3
   },
   "file_extension": ".py",
   "mimetype": "text/x-python",
   "name": "python",
   "nbconvert_exporter": "python",
   "pygments_lexer": "ipython3",
   "version": "3.6.5"
  }
 },
 "nbformat": 4,
 "nbformat_minor": 1
}
